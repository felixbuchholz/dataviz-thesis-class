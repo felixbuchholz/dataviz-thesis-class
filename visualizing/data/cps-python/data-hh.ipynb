{
 "cells": [
  {
   "cell_type": "code",
   "execution_count": 1,
   "metadata": {},
   "outputs": [],
   "source": [
    "import numpy as np\n",
    "import pandas as pd\n",
    "import matplotlib.pyplot as plt\n",
    "import statistics"
   ]
  },
  {
   "cell_type": "code",
   "execution_count": 2,
   "metadata": {},
   "outputs": [],
   "source": [
    "cpshh = pd.read_csv('/Users/felixbuchholz/repos/thesis/visualizing/data/cps-python/cps_00006_hh.csv')"
   ]
  },
  {
   "cell_type": "code",
   "execution_count": 3,
   "metadata": {},
   "outputs": [],
   "source": [
    "# cpshh = cpshh[cpshh.HHINCOME < 99999997]"
   ]
  },
  {
   "cell_type": "code",
   "execution_count": 4,
   "metadata": {},
   "outputs": [
    {
     "name": "stdout",
     "output_type": "stream",
     "text": [
      "(185487, 12)\n",
      "<class 'pandas.core.frame.DataFrame'>\n"
     ]
    }
   ],
   "source": [
    "print(cpshh.shape)\n",
    "print(type(cpshh))"
   ]
  },
  {
   "cell_type": "code",
   "execution_count": 5,
   "metadata": {},
   "outputs": [
    {
     "name": "stdout",
     "output_type": "stream",
     "text": [
      "   YEAR  SERIAL  MONTH           CPSID  ASECFLAG  ASECWTH  HHINCOME  STAMPNO  \\\n",
      "0  2016       2      3  20141202933700         1  1132.05     13309        0   \n",
      "\n",
      "   STAMPVAL  PERNUM          CPSIDP   ASECWT  \n",
      "0         0       1  20141202933701  1132.05  \n"
     ]
    }
   ],
   "source": [
    "print(cpshh.head(1))"
   ]
  },
  {
   "cell_type": "code",
   "execution_count": 6,
   "metadata": {},
   "outputs": [],
   "source": [
    "cpshh['incHHWeighted'] = cpshh['ASECWTH']*cpshh['HHINCOME']"
   ]
  },
  {
   "cell_type": "code",
   "execution_count": 7,
   "metadata": {},
   "outputs": [
    {
     "name": "stdout",
     "output_type": "stream",
     "text": [
      "90852.59761580518\n"
     ]
    }
   ],
   "source": [
    "print(cpshh['incHHWeighted'].sum()/cpshh['ASECWTH'].sum())"
   ]
  },
  {
   "cell_type": "code",
   "execution_count": null,
   "metadata": {},
   "outputs": [],
   "source": []
  }
 ],
 "metadata": {
  "kernelspec": {
   "display_name": "Python 3",
   "language": "python",
   "name": "python3"
  },
  "language_info": {
   "codemirror_mode": {
    "name": "ipython",
    "version": 3
   },
   "file_extension": ".py",
   "mimetype": "text/x-python",
   "name": "python",
   "nbconvert_exporter": "python",
   "pygments_lexer": "ipython3",
   "version": "3.7.1"
  }
 },
 "nbformat": 4,
 "nbformat_minor": 2
}
